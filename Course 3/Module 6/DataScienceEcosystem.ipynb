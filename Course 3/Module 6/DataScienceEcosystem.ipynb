{
 "cells": [
  {
   "cell_type": "markdown",
   "id": "be489aa5",
   "metadata": {},
   "source": [
    "# Data Science Tools and Ecosystem"
   ]
  },
  {
   "cell_type": "markdown",
   "id": "3e0ac2e9",
   "metadata": {},
   "source": [
    "**Objectives**\n",
    "- List Data Science Languages\n",
    "- List Data Science Libraries\n",
    "- List Data Science Tools\n",
    "- Demonstrate Arithmetic in Python"
   ]
  },
  {
   "cell_type": "markdown",
   "id": "74c0a863",
   "metadata": {},
   "source": [
    "This notebook summarizes Data Science Tools and Ecosystems."
   ]
  },
  {
   "cell_type": "markdown",
   "id": "bf679bd2",
   "metadata": {},
   "source": [
    "There are many popular languages used in Data Science:\n",
    "1. Python\n",
    "2. R\n",
    "3. SQL\n",
    "4. Scala\n",
    "5. Java\n",
    "6. C++\n",
    "7. Julia"
   ]
  },
  {
   "cell_type": "markdown",
   "id": "32461dc1",
   "metadata": {},
   "source": [
    "Libraries are also necessary to Data Scientists. Some commonly used libraries include:\n",
    "1. Scikit-learn\n",
    "2. Pandas\n",
    "3. Numpy\n",
    "4. Matplotlib\n",
    "5. Seaborn\n",
    "6. SciPy\n",
    "7. Keras\n",
    "8. Apache Spark"
   ]
  },
  {
   "cell_type": "markdown",
   "id": "c0c14416",
   "metadata": {},
   "source": [
    "|Data Science Tools|\n",
    "|------------------|\n",
    "|Jupyter Notebook|\n",
    "|RStudio|\n",
    "|Spyder|"
   ]
  },
  {
   "cell_type": "markdown",
   "id": "2a5e6092",
   "metadata": {},
   "source": [
    "### Below are some examples of evaluating mathmatical expressions in Python"
   ]
  },
  {
   "cell_type": "code",
   "execution_count": 1,
   "id": "b151e4e1",
   "metadata": {},
   "outputs": [
    {
     "data": {
      "text/plain": [
       "17"
      ]
     },
     "execution_count": 1,
     "metadata": {},
     "output_type": "execute_result"
    }
   ],
   "source": [
    "#This is a simple operation to multiply then add integers\n",
    "(3*4)+5"
   ]
  },
  {
   "cell_type": "code",
   "execution_count": 3,
   "id": "e1066b70",
   "metadata": {
    "scrolled": true
   },
   "outputs": [
    {
     "data": {
      "text/plain": [
       "3.3333333333333335"
      ]
     },
     "execution_count": 3,
     "metadata": {},
     "output_type": "execute_result"
    }
   ],
   "source": [
    "# This will convert 200 minutes to hours by dividing by 60\n",
    "200/60"
   ]
  },
  {
   "cell_type": "markdown",
   "id": "162e380c",
   "metadata": {},
   "source": [
    "## Author\n",
    "Kai Barclay"
   ]
  }
 ],
 "metadata": {
  "kernelspec": {
   "display_name": "Python 3 (ipykernel)",
   "language": "python",
   "name": "python3"
  },
  "language_info": {
   "codemirror_mode": {
    "name": "ipython",
    "version": 3
   },
   "file_extension": ".py",
   "mimetype": "text/x-python",
   "name": "python",
   "nbconvert_exporter": "python",
   "pygments_lexer": "ipython3",
   "version": "3.9.13"
  }
 },
 "nbformat": 4,
 "nbformat_minor": 5
}
